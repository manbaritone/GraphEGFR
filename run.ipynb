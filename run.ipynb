{
 "cells": [
  {
   "cell_type": "markdown",
   "metadata": {},
   "source": [
    "# Import and Setup"
   ]
  },
  {
   "cell_type": "code",
   "execution_count": 1,
   "metadata": {
    "scrolled": true
   },
   "outputs": [
    {
     "name": "stderr",
     "output_type": "stream",
     "text": [
      "2024-05-03 10:43:56.472004: I tensorflow/core/util/util.cc:169] oneDNN custom operations are on. You may see slightly different numerical results due to floating-point round-off errors from different computation orders. To turn them off, set the environment variable `TF_ENABLE_ONEDNN_OPTS=0`.\n",
      "2024-05-03 10:43:56.477008: W tensorflow/stream_executor/platform/default/dso_loader.cc:64] Could not load dynamic library 'libcudart.so.11.0'; dlerror: libcudart.so.11.0: cannot open shared object file: No such file or directory\n",
      "2024-05-03 10:43:56.477025: I tensorflow/stream_executor/cuda/cudart_stub.cc:29] Ignore above cudart dlerror if you do not have a GPU set up on your machine.\n"
     ]
    }
   ],
   "source": [
    "import pandas as pd\n",
    "import os\n",
    "import torch\n",
    "from torch_geometric.loader import DataLoader\n",
    "\n",
    "from graphegfr.models import GraphEGFR\n",
    "from graphegfr.configs import Configs\n",
    "from graphegfr.fingerprint import Fingerprint\n",
    "from graphegfr.featurizer import generate_npdata, clean_smiles\n",
    "from graphegfr.dataset import load_dataset"
   ]
  },
  {
   "cell_type": "code",
   "execution_count": 2,
   "metadata": {},
   "outputs": [],
   "source": [
    "target_dict = {\n",
    "    r'MTL_HER124': ['HER1','HER2','HER4'],\n",
    "    r'MTL_ALL_WT_MT': ['HER1','HER2','HER4','T790M_L858R','L858R','delE746_A750','T790M'],\n",
    "    r'MTL_HER1_ALL_MT': ['HER1','T790M_L858R','L858R','delE746_A750','T790M'],\n",
    "    r'MTL_ALL_MT': ['T790M_L858R','L858R','delE746_A750','T790M'],\n",
    "    r'HER1':['HER1'],\n",
    "    r'HER2':['HER2'],\n",
    "    r'HER4':['HER4'],\n",
    "    r'T790M_L858R':['T790M_L858R'],\n",
    "    r'L858R':['L858R'],\n",
    "    r'delE746_A750':['delE746_A750'],\n",
    "    r'T790M':['T790M']\n",
    "}"
   ]
  },
  {
   "cell_type": "code",
   "execution_count": 3,
   "metadata": {},
   "outputs": [],
   "source": [
    "modelpaths = {}\n",
    "for elem in os.listdir(\"models\"):\n",
    "    path = os.path.join(\"models\", elem)\n",
    "    if os.path.isfile(path) and path.endswith(\".pt\"):\n",
    "        modelpaths[elem.split(\"_\")[0]] = path"
   ]
  },
  {
   "cell_type": "markdown",
   "metadata": {},
   "source": [
    "# Main Section"
   ]
  },
  {
   "cell_type": "code",
   "execution_count": 4,
   "metadata": {
    "scrolled": true
   },
   "outputs": [
    {
     "name": "stdout",
     "output_type": "stream",
     "text": [
      "Number of defect: 0\n",
      "C#Cc1cccc(Nc2ncnc3cc(OCCOC)c(OCCOC)cc23)c1\n",
      "C=CC(=O)Nc1cc(Nc2nccc(-c3cn(C)c4ccccc34)n2)c(OC)cc1N(C)CCN(C)C\n",
      "COc1cc2ncnc(Nc3ccc(F)c(Cl)c3)c2cc1OCCCN1CCOCC1\n",
      "CN(C)C/C=C/C(=O)Nc1cc2c(Nc3ccc(F)c(Cl)c3)ncnc2cc1O[C@H]1CCOC1\n",
      "COc1cc2ncnc(Nc3ccc(F)c(Cl)c3)c2cc1NC(=O)/C=C/CN1CCCCC1\n",
      "CS(=O)(=O)CCNCc1ccc(-c2ccc3ncnc(Nc4ccc(OCc5cccc(F)c5)c(Cl)c4)c3c2)o1\n",
      "CCOc1cc2ncc(C#N)c(Nc3ccc(OCc4ccccn4)c(Cl)c3)c2cc1NC(=O)/C=C/CN(C)C\n",
      "COc1cc2c(Nc3ccc(Br)cc3F)ncnc2cc1OCC1CCN(C)CC1\n",
      "C=CC(=O)Nc1cc(Nc2ncc(C(=O)OC(C)C)c(-c3cn(C)c4ccccc34)n2)c(OC)cc1N(C)CCN(C)C\n",
      "COc1cc(N2CCC(N3CCN(C)CC3)CC2)ccc1Nc1ncc(Cl)c(Nc2ccccc2P(C)(C)=O)n1\n",
      "Cc1cc(Nc2ncnc3ccc(NC4=NC(C)(C)CO4)cc23)ccc1Oc1ccn2ncnc2c1\n"
     ]
    }
   ],
   "source": [
    "datapath = \".temp\" # path to save generated fingerprint \n",
    "smiles_path = \"resources/LigEGFR/data_prep/0_rawdata/drug/FDA_drug.csv\"\n",
    "\n",
    "smiles_raw = pd.read_csv(smiles_path)[\"Isomeric_SMILES\"] # series of SMILES\n",
    "smiles = clean_smiles(smiles_raw)\n",
    "for smi in smiles.tolist():\n",
    "    print(smi)"
   ]
  },
  {
   "cell_type": "code",
   "execution_count": 5,
   "metadata": {},
   "outputs": [
    {
     "name": "stdout",
     "output_type": "stream",
     "text": [
      "Generating fingerprint...\n"
     ]
    },
    {
     "name": "stderr",
     "output_type": "stream",
     "text": [
      "0it [00:00, ?it/s]\n",
      "100%|██████████| 11/11 [00:01<00:00,  6.94it/s]\n",
      "100%|██████████| 11/11 [00:00<00:00, 17.04it/s]\n",
      "100%|██████████| 11/11 [00:00<00:00, 20.58it/s]\n",
      "100%|██████████| 11/11 [00:00<00:00, 18.21it/s]\n",
      "100%|██████████| 11/11 [00:00<00:00, 26.24it/s]\n",
      "100%|██████████| 11/11 [00:00<00:00, 18.68it/s]\n",
      "100%|██████████| 11/11 [00:00<00:00, 31.72it/s]\n",
      "100%|██████████| 11/11 [00:00<00:00, 11.56it/s]\n",
      "100%|██████████| 11/11 [00:00<00:00, 33.16it/s]\n",
      "100%|██████████| 11/11 [00:00<00:00, 427.38it/s]\n",
      "100%|██████████| 11/11 [00:00<00:00, 344.06it/s]\n",
      "100%|██████████| 11/11 [00:00<00:00, 459.35it/s]\n",
      "100%|██████████| 11/11 [00:00<00:00, 138.55it/s]\n",
      "100%|██████████| 11/11 [00:00<00:00, 325.51it/s]\n",
      "100%|██████████| 11/11 [00:00<00:00, 202.83it/s]\n",
      "100%|██████████| 11/11 [00:00<00:00, 17.98it/s]\n",
      "0it [00:00, ?it/s]\n",
      "100%|██████████| 11/11 [00:00<00:00, 296.60it/s]\n",
      "100%|██████████| 11/11 [00:00<00:00, 402.28it/s]\n",
      "100%|██████████| 11/11 [00:00<00:00, 410.53it/s]\n",
      "100%|██████████| 11/11 [00:00<00:00, 896.38it/s]\n",
      "100%|██████████| 11/11 [00:00<00:00, 5761.41it/s]\n",
      "100%|██████████| 11/11 [00:00<00:00, 402.13it/s]\n",
      "100%|██████████| 11/11 [00:00<00:00, 406.89it/s]\n",
      "100%|██████████| 11/11 [00:00<00:00, 173.22it/s]\n",
      "100%|██████████| 11/11 [00:00<00:00, 407.61it/s]\n",
      "100%|██████████| 11/11 [00:00<00:00, 399.58it/s]\n",
      "100%|██████████| 11/11 [00:00<00:00, 3596.05it/s]\n",
      "100%|██████████| 11/11 [00:00<00:00, 409.35it/s]\n",
      "100%|██████████| 11/11 [00:00<00:00, 408.88it/s]\n",
      "100%|██████████| 11/11 [00:00<00:00, 408.86it/s]\n",
      "100%|██████████| 11/11 [00:00<00:00, 281.04it/s]\n",
      "100%|██████████| 11/11 [00:00<00:00, 404.31it/s]\n",
      "100%|██████████| 11/11 [00:00<00:00, 3482.33it/s]\n",
      "100%|██████████| 11/11 [00:00<00:00, 3965.05it/s]\n",
      "100%|██████████| 11/11 [00:00<00:00, 3972.90it/s]\n",
      "100%|██████████| 11/11 [00:00<00:00, 8070.20it/s]\n",
      "100%|██████████| 11/11 [00:00<00:00, 34074.85it/s]\n",
      "100%|██████████| 11/11 [00:00<00:00, 3862.48it/s]\n",
      "100%|██████████| 11/11 [00:00<00:00, 3981.82it/s]\n",
      "100%|██████████| 11/11 [00:00<00:00, 1718.21it/s]\n",
      "100%|██████████| 11/11 [00:00<00:00, 4153.52it/s]\n",
      "100%|██████████| 11/11 [00:00<00:00, 3958.25it/s]\n",
      "100%|██████████| 11/11 [00:00<00:00, 24193.68it/s]\n",
      "100%|██████████| 11/11 [00:00<00:00, 3854.74it/s]\n",
      "100%|██████████| 11/11 [00:00<00:00, 3927.59it/s]\n",
      "100%|██████████| 11/11 [00:00<00:00, 3846.06it/s]\n",
      "100%|██████████| 11/11 [00:00<00:00, 3849.91it/s]\n",
      "100%|██████████| 11/11 [00:00<00:00, 3884.92it/s]\n"
     ]
    },
    {
     "name": "stdout",
     "output_type": "stream",
     "text": [
      "Done\n"
     ]
    }
   ],
   "source": [
    "print(\"Generating fingerprint...\")\n",
    "Fingerprint(smiles, datapath)\n",
    "adj, feature, graph, edge = generate_npdata(smiles, datapath)\n",
    "\n",
    "print(\"Done\")\n",
    "# print(adj.shape)\n",
    "# print(feature.shape)\n",
    "# print(graph.shape)\n",
    "# print(len(edge))"
   ]
  },
  {
   "cell_type": "code",
   "execution_count": 6,
   "metadata": {},
   "outputs": [],
   "source": [
    "# Generated from the above cell\n",
    "fpc = pd.read_csv(f'{datapath}/fingerprint-nonhash.csv').to_numpy()\n",
    "fpf = pd.read_csv(f'{datapath}/fingerprint-hash.csv').to_numpy()\n",
    "\n",
    "fingfeaf=fpf.shape[-1]\n",
    "fingfeac=fpc.shape[-1]\n",
    "fpfs=[]\n",
    "fpcs=[]\n",
    "Label = [None] * len(edge)\n",
    "for i in fpf:\n",
    "    fpfs.append(torch.FloatTensor(i))\n",
    "for i in fpc:\n",
    "    fpcs.append(torch.FloatTensor(i).unsqueeze(1))"
   ]
  },
  {
   "cell_type": "code",
   "execution_count": 7,
   "metadata": {},
   "outputs": [],
   "source": [
    "dataset, smiles_list = load_dataset(adj, smiles, Label, fpfs, fpcs)"
   ]
  },
  {
   "cell_type": "code",
   "execution_count": 8,
   "metadata": {},
   "outputs": [],
   "source": [
    "test_loader = DataLoader(dataset,batch_size=1,shuffle=False)"
   ]
  },
  {
   "cell_type": "code",
   "execution_count": 9,
   "metadata": {},
   "outputs": [],
   "source": [
    "# for target in ['HER1','HER2','HER4','T790M_L858R','L858R','delE746_A750','T790M']:\n",
    "target = \"HER1\"\n",
    "configs = Configs.parse(f\"configs/sample/{target}-conf.json\")\n",
    "hpconfig = configs['hyperparam']\n",
    "num_atom_features = hpconfig[\"num_atom_features\"]\n",
    "edge_dim = hpconfig[\"edge_dim\"]\n",
    "fingerprint_dim = hpconfig[\"fingerprint_dim\"]\n",
    "num_layers = hpconfig[\"num_layers\"]\n",
    "num_timesteps = hpconfig[\"num_timesteps\"]\n",
    "dropout = 0 # not used in eval mode regardless\n",
    "\n",
    "model = GraphEGFR(num_atom_features,edge_dim, fingerprint_dim,\n",
    "                  num_layers, num_timesteps, dropout, fingfeaf, \n",
    "                  fingfeac, configs)\n",
    "state_dict = torch.load(f\"./state_dict/{target}.pt\")\n",
    "model.load_state_dict(state_dict)\n",
    "model.cpu().eval()\n",
    "index_ans = target_dict[configs[\"target\"]].index(target)"
   ]
  },
  {
   "cell_type": "code",
   "execution_count": 10,
   "metadata": {},
   "outputs": [
    {
     "name": "stdout",
     "output_type": "stream",
     "text": [
      "== Model Architecture ==\n"
     ]
    },
    {
     "data": {
      "text/plain": [
       "GraphEGFR(\n",
       "  (mol_model): AttentiveFP_DGL(\n",
       "    (gnn): AttentiveFPGNN(\n",
       "      (init_context): GetContext(\n",
       "        (project_node): Sequential(\n",
       "          (0): Linear(in_features=75, out_features=275, bias=True)\n",
       "          (1): LeakyReLU(negative_slope=0.01)\n",
       "        )\n",
       "        (project_edge1): Sequential(\n",
       "          (0): Linear(in_features=86, out_features=275, bias=True)\n",
       "          (1): LeakyReLU(negative_slope=0.01)\n",
       "        )\n",
       "        (project_edge2): Sequential(\n",
       "          (0): Dropout(p=0, inplace=False)\n",
       "          (1): Linear(in_features=550, out_features=1, bias=True)\n",
       "          (2): LeakyReLU(negative_slope=0.01)\n",
       "        )\n",
       "        (attentive_gru): AttentiveGRU1(\n",
       "          (edge_transform): Sequential(\n",
       "            (0): Dropout(p=0, inplace=False)\n",
       "            (1): Linear(in_features=275, out_features=275, bias=True)\n",
       "          )\n",
       "          (gru): GRUCell(275, 275)\n",
       "        )\n",
       "      )\n",
       "      (gnn_layers): ModuleList()\n",
       "    )\n",
       "    (readout): AttentiveFPReadout(\n",
       "      (readouts): ModuleList(\n",
       "        (0): GlobalPool(\n",
       "          (compute_logits): Sequential(\n",
       "            (0): Linear(in_features=550, out_features=1, bias=True)\n",
       "            (1): LeakyReLU(negative_slope=0.01)\n",
       "          )\n",
       "          (project_nodes): Sequential(\n",
       "            (0): Dropout(p=0, inplace=False)\n",
       "            (1): Linear(in_features=275, out_features=275, bias=True)\n",
       "          )\n",
       "          (gru): GRUCell(275, 275)\n",
       "        )\n",
       "        (1): GlobalPool(\n",
       "          (compute_logits): Sequential(\n",
       "            (0): Linear(in_features=550, out_features=1, bias=True)\n",
       "            (1): LeakyReLU(negative_slope=0.01)\n",
       "          )\n",
       "          (project_nodes): Sequential(\n",
       "            (0): Dropout(p=0, inplace=False)\n",
       "            (1): Linear(in_features=275, out_features=275, bias=True)\n",
       "          )\n",
       "          (gru): GRUCell(275, 275)\n",
       "        )\n",
       "        (2): GlobalPool(\n",
       "          (compute_logits): Sequential(\n",
       "            (0): Linear(in_features=550, out_features=1, bias=True)\n",
       "            (1): LeakyReLU(negative_slope=0.01)\n",
       "          )\n",
       "          (project_nodes): Sequential(\n",
       "            (0): Dropout(p=0, inplace=False)\n",
       "            (1): Linear(in_features=275, out_features=275, bias=True)\n",
       "          )\n",
       "          (gru): GRUCell(275, 275)\n",
       "        )\n",
       "      )\n",
       "    )\n",
       "  )\n",
       "  (cnn1): Conv1d(2767, 256, kernel_size=(1,), stride=(1,))\n",
       "  (cnn2): Conv1d(256, 128, kernel_size=(1,), stride=(1,))\n",
       "  (cnn_line): Linear(in_features=7472, out_features=7472, bias=True)\n",
       "  (dnn1): Linear(in_features=7472, out_features=512, bias=True)\n",
       "  (dnn2): Linear(in_features=512, out_features=1024, bias=True)\n",
       "  (dnn3): Linear(in_features=1024, out_features=7472, bias=True)\n",
       "  (predict_property): Linear(in_features=7875, out_features=3, bias=True)\n",
       ")"
      ]
     },
     "execution_count": 10,
     "metadata": {},
     "output_type": "execute_result"
    }
   ],
   "source": [
    "print(\"== Model Architecture ==\")\n",
    "model"
   ]
  },
  {
   "cell_type": "code",
   "execution_count": 12,
   "metadata": {},
   "outputs": [
    {
     "name": "stdout",
     "output_type": "stream",
     "text": [
      "Target index (in output): 0\n"
     ]
    },
    {
     "data": {
      "text/html": [
       "<div>\n",
       "<style scoped>\n",
       "    .dataframe tbody tr th:only-of-type {\n",
       "        vertical-align: middle;\n",
       "    }\n",
       "\n",
       "    .dataframe tbody tr th {\n",
       "        vertical-align: top;\n",
       "    }\n",
       "\n",
       "    .dataframe thead th {\n",
       "        text-align: right;\n",
       "    }\n",
       "</style>\n",
       "<table border=\"1\" class=\"dataframe\">\n",
       "  <thead>\n",
       "    <tr style=\"text-align: right;\">\n",
       "      <th></th>\n",
       "      <th>smiles</th>\n",
       "      <th>predicted_values</th>\n",
       "    </tr>\n",
       "  </thead>\n",
       "  <tbody>\n",
       "    <tr>\n",
       "      <th>0</th>\n",
       "      <td>C#Cc1cccc(Nc2ncnc3cc(OCCOC)c(OCCOC)cc23)c1</td>\n",
       "      <td>6.483565</td>\n",
       "    </tr>\n",
       "    <tr>\n",
       "      <th>1</th>\n",
       "      <td>C=CC(=O)Nc1cc(Nc2nccc(-c3cn(C)c4ccccc34)n2)c(O...</td>\n",
       "      <td>7.429565</td>\n",
       "    </tr>\n",
       "    <tr>\n",
       "      <th>2</th>\n",
       "      <td>COc1cc2ncnc(Nc3ccc(F)c(Cl)c3)c2cc1OCCCN1CCOCC1</td>\n",
       "      <td>8.149370</td>\n",
       "    </tr>\n",
       "    <tr>\n",
       "      <th>3</th>\n",
       "      <td>CN(C)C/C=C/C(=O)Nc1cc2c(Nc3ccc(F)c(Cl)c3)ncnc2...</td>\n",
       "      <td>8.557239</td>\n",
       "    </tr>\n",
       "    <tr>\n",
       "      <th>4</th>\n",
       "      <td>COc1cc2ncnc(Nc3ccc(F)c(Cl)c3)c2cc1NC(=O)/C=C/C...</td>\n",
       "      <td>8.500108</td>\n",
       "    </tr>\n",
       "    <tr>\n",
       "      <th>5</th>\n",
       "      <td>CS(=O)(=O)CCNCc1ccc(-c2ccc3ncnc(Nc4ccc(OCc5ccc...</td>\n",
       "      <td>8.139348</td>\n",
       "    </tr>\n",
       "    <tr>\n",
       "      <th>6</th>\n",
       "      <td>CCOc1cc2ncc(C#N)c(Nc3ccc(OCc4ccccn4)c(Cl)c3)c2...</td>\n",
       "      <td>8.696309</td>\n",
       "    </tr>\n",
       "    <tr>\n",
       "      <th>7</th>\n",
       "      <td>COc1cc2c(Nc3ccc(Br)cc3F)ncnc2cc1OCC1CCN(C)CC1</td>\n",
       "      <td>6.957242</td>\n",
       "    </tr>\n",
       "    <tr>\n",
       "      <th>8</th>\n",
       "      <td>C=CC(=O)Nc1cc(Nc2ncc(C(=O)OC(C)C)c(-c3cn(C)c4c...</td>\n",
       "      <td>6.816389</td>\n",
       "    </tr>\n",
       "    <tr>\n",
       "      <th>9</th>\n",
       "      <td>COc1cc(N2CCC(N3CCN(C)CC3)CC2)ccc1Nc1ncc(Cl)c(N...</td>\n",
       "      <td>4.693923</td>\n",
       "    </tr>\n",
       "    <tr>\n",
       "      <th>10</th>\n",
       "      <td>Cc1cc(Nc2ncnc3ccc(NC4=NC(C)(C)CO4)cc23)ccc1Oc1...</td>\n",
       "      <td>5.942028</td>\n",
       "    </tr>\n",
       "  </tbody>\n",
       "</table>\n",
       "</div>"
      ],
      "text/plain": [
       "                                               smiles  predicted_values\n",
       "0          C#Cc1cccc(Nc2ncnc3cc(OCCOC)c(OCCOC)cc23)c1          6.483565\n",
       "1   C=CC(=O)Nc1cc(Nc2nccc(-c3cn(C)c4ccccc34)n2)c(O...          7.429565\n",
       "2      COc1cc2ncnc(Nc3ccc(F)c(Cl)c3)c2cc1OCCCN1CCOCC1          8.149370\n",
       "3   CN(C)C/C=C/C(=O)Nc1cc2c(Nc3ccc(F)c(Cl)c3)ncnc2...          8.557239\n",
       "4   COc1cc2ncnc(Nc3ccc(F)c(Cl)c3)c2cc1NC(=O)/C=C/C...          8.500108\n",
       "5   CS(=O)(=O)CCNCc1ccc(-c2ccc3ncnc(Nc4ccc(OCc5ccc...          8.139348\n",
       "6   CCOc1cc2ncc(C#N)c(Nc3ccc(OCc4ccccn4)c(Cl)c3)c2...          8.696309\n",
       "7       COc1cc2c(Nc3ccc(Br)cc3F)ncnc2cc1OCC1CCN(C)CC1          6.957242\n",
       "8   C=CC(=O)Nc1cc(Nc2ncc(C(=O)OC(C)C)c(-c3cn(C)c4c...          6.816389\n",
       "9   COc1cc(N2CCC(N3CCN(C)CC3)CC2)ccc1Nc1ncc(Cl)c(N...          4.693923\n",
       "10  Cc1cc(Nc2ncnc3ccc(NC4=NC(C)(C)CO4)cc23)ccc1Oc1...          5.942028"
      ]
     },
     "execution_count": 12,
     "metadata": {},
     "output_type": "execute_result"
    }
   ],
   "source": [
    "print(\"Target index (in output):\",index_ans)\n",
    "records = {\"smiles\":[], \"predicted_values\":[]}\n",
    "for data, smi in zip(test_loader, smiles_list):\n",
    "    value = model(data)[0,index_ans].item()\n",
    "    records[\"predicted_values\"].append(value)\n",
    "    records[\"smiles\"].append(smi)\n",
    "df_records = pd.DataFrame(records)\n",
    "df_records"
   ]
  },
  {
   "cell_type": "code",
   "execution_count": null,
   "metadata": {},
   "outputs": [],
   "source": []
  }
 ],
 "metadata": {
  "kernelspec": {
   "display_name": "Python 3 (ipykernel)",
   "language": "python",
   "name": "python3"
  },
  "language_info": {
   "codemirror_mode": {
    "name": "ipython",
    "version": 3
   },
   "file_extension": ".py",
   "mimetype": "text/x-python",
   "name": "python",
   "nbconvert_exporter": "python",
   "pygments_lexer": "ipython3",
   "version": "3.7.9"
  }
 },
 "nbformat": 4,
 "nbformat_minor": 2
}
