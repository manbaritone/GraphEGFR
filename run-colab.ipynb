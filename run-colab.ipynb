{
  "cells": [
    {
      "cell_type": "markdown",
      "metadata": {
        "id": "view-in-github",
        "colab_type": "text"
      },
      "source": [
        "<a href=\"https://colab.research.google.com/github/manbaritone/GraphEGFR/blob/main/run-colab.ipynb\" target=\"_parent\"><img src=\"https://colab.research.google.com/assets/colab-badge.svg\" alt=\"Open In Colab\"/></a>"
      ]
    },
    {
      "cell_type": "markdown",
      "source": [
        "##**GraphEGFR on Google Colab**\n",
        "\n",
        "<img src=\"https://github.com/manbaritone/GraphEGFR/blob/main/graphegfr_architect.png?raw=true\">\n",
        "\n",
        "**GraphEGFR** is a model specifically designed to enhance molecular representation for the prediction of inhibitor bioactivity (pIC50) against wild-type HER1, HER2, HER4, and mutant HER1 proteins. GraphEGFR incorporates deep learning techniques such as multi-task learning and transfer learning, inspired by a graph attention mechanism for molecular graphs and deep neural networks, and convolutional neural networks for molecular fingerprints.\n",
        "\n",
        "**For more information, please visit:**\n",
        "\n",
        "**GitHub:** https://github.com/manbaritone/GraphEGFR\n",
        "\n",
        "**Publication:** [Boonyarit B., Yamprasert N., Kaewnuratchadasorn P., Kinchakawat J., Prommin C., Rungrotmongkol T., Nutanong S. GraphEGFR: Multi‐task and transfer learning based on molecular graph attention mechanism and fingerprints improving inhibitor bioactivity prediction for EGFR family proteins on data scarcity.\n",
        "*Journal of Computational Chemistry*, 2024](https://onlinelibrary.wiley.com/doi/full/10.1002/jcc.27388)"
      ],
      "metadata": {
        "id": "7fMT4FJ43wNr"
      }
    },
    {
      "cell_type": "code",
      "execution_count": null,
      "metadata": {
        "id": "VKwtT51nHLhe",
        "cellView": "form"
      },
      "outputs": [],
      "source": [
        "#@title Clone the entire GraphEGFR repository\n",
        "\n",
        "!git clone -l -s https://github.com/manbaritone/GraphEGFR .proj.temp/\n",
        "%rm .proj.temp/run.ipynb\n",
        "%mv .proj.temp/* ./\n",
        "%rm -r .proj.temp/"
      ]
    },
    {
      "cell_type": "code",
      "source": [
        "#@title Install CondaColab\n",
        "\n",
        "!pip install -q condacolab\n",
        "import condacolab\n",
        "import sys\n",
        "condacolab.install()\n",
        "!echo $PYTHONPATH\n",
        "%env PYTHONPATH=/usr/local/bin/python3.10"
      ],
      "metadata": {
        "id": "IieP9pr5OXf_",
        "cellView": "form"
      },
      "execution_count": null,
      "outputs": []
    },
    {
      "cell_type": "code",
      "source": [
        "#@title CondaColab Check\n",
        "\n",
        "import condacolab\n",
        "condacolab.check()"
      ],
      "metadata": {
        "id": "3LfW6LKnzoUG",
        "cellView": "form"
      },
      "execution_count": null,
      "outputs": []
    },
    {
      "cell_type": "code",
      "execution_count": null,
      "metadata": {
        "id": "X6iXEDI_HLhf",
        "cellView": "form"
      },
      "outputs": [],
      "source": [
        "#@title Install dependencies (~4 mins)\n",
        "\n",
        "!pip install scikit-learn==1.2.2\n",
        "!pip install imblearn\n",
        "!conda install conda-forge::openbabel\n",
        "!python -m pip install rdkit\n",
        "!python -m pip install deepchem==2.5.0\n",
        "!python -m pip install JPype1\n",
        "!pip install torch==2.0.0\n",
        "!pip install torch_geometric\n",
        "!pip install pyg_lib torch_scatter torch_sparse torch_cluster torch_spline_conv -f https://data.pyg.org/whl/torch-2.0.0+cu118.html\n",
        "!python -m pip install torchmetrics\n",
        "!pip install dgl==1.1.3 -f https://data.dgl.ai/wheels/cu118/repo.html\n",
        "!pip install dgllife\n"
      ]
    },
    {
      "cell_type": "code",
      "execution_count": null,
      "metadata": {
        "id": "6WD2gCuHHLhg",
        "cellView": "form"
      },
      "outputs": [],
      "source": [
        "#@title Download required project files from Zenodo (~2.9 GB with ~4 mins)\n",
        "\n",
        "!wget https://zenodo.org/records/11122146/files/GraphEGFR.tar.gz\n",
        "!tar -xvf /content/GraphEGFR.tar.gz --warning=no-unknown-keyword -C .\n",
        "!rm GraphEGFR/*.ipynb\n",
        "!mv GraphEGFR/* ./\n",
        "!rm -r GraphEGFR"
      ]
    },
    {
      "cell_type": "code",
      "execution_count": null,
      "metadata": {
        "scrolled": true,
        "id": "K6tJLfKQHLhg",
        "cellView": "form"
      },
      "outputs": [],
      "source": [
        "#@title Import packages and Define targets\n",
        "\n",
        "from google.colab import files\n",
        "import pandas as pd\n",
        "import os\n",
        "import io\n",
        "import torch\n",
        "from torch_geometric.loader import DataLoader\n",
        "\n",
        "from graphegfr.models import GraphEGFR\n",
        "from graphegfr.configs import Configs\n",
        "from graphegfr.fingerprint import Fingerprint\n",
        "from graphegfr.featurizer import generate_npdata, clean_smiles\n",
        "from graphegfr.dataset import load_dataset\n",
        "\n",
        "target_dict = {\n",
        "    r'MTL_HER124': ['HER1','HER2','HER4'],\n",
        "    r'MTL_ALL_WT_MT': ['HER1','HER2','HER4','T790M_L858R','L858R','delE746_A750','T790M'],\n",
        "    r'MTL_HER1_ALL_MT': ['HER1','T790M_L858R','L858R','delE746_A750','T790M'],\n",
        "    r'MTL_ALL_MT': ['T790M_L858R','L858R','delE746_A750','T790M'],\n",
        "    r'HER1':['HER1'],\n",
        "    r'HER2':['HER2'],\n",
        "    r'HER4':['HER4'],\n",
        "    r'T790M_L858R':['T790M_L858R'],\n",
        "    r'L858R':['L858R'],\n",
        "    r'delE746_A750':['delE746_A750'],\n",
        "    r'T790M':['T790M']\n",
        "}"
      ]
    },
    {
      "cell_type": "code",
      "source": [
        "#@title Input target and Upload a SMI file for desired compounds in SMILES format\n",
        "\n",
        "target = \"MTL_HER1_ALL_MT\" # @param [\"HER1\", \"HER2\", \"HER4\", \"T790M_L858R\", \"L858R\", \"delE746_A750\", \"T790M\", \"MTL_HER124\", \"MTL_ALL_WT_MT\", \"MTL_HER1_ALL_MT\", \"MTL_ALL_MT\"]\n",
        "print_architecture = False # @param {type:\"boolean\"}\n",
        "datapath = \".temp\" # path to save generated fingerprint\n",
        "smiles_file = \"FDA_drugs\" # @param [\"FDA_drugs\", \"custom\"]\n",
        "# @markdown * Please select a **target** by choosing either a single protein target or multi-task learning (MTL) for simultaneous prediction:\n",
        "# @markdown        1. MTL_HER124: ['HER1','HER2','HER4']\n",
        "# @markdown        2. MTL_ALL_WT_MT: ['HER1','HER2','HER4','T790M_L858R','L858R','delE746_A750','T790M']\n",
        "# @markdown        3. MTL_HER1_ALL_MT: ['HER1','T790M_L858R','L858R','delE746_A750','T790M']\n",
        "# @markdown        4. MTL_ALL_MT: ['T790M_L858R','L858R','delE746_A750','T790M']\n",
        "# @markdown      **Note:** The mutation targets are based on the HER1 protein.\n",
        "# @markdown\n",
        "# @markdown   – You can upload an SMI file (Recommend: Isomeric SMILES) by selecting \"**custom**\" for the **smile_file** option; otherwise, example \"**FDA_drugs**\" will be used.\n",
        "smiles_path = []\n",
        "\n",
        "if smiles_file == 'FDA_drugs':\n",
        "  smiles_path = f\"examples/FDA_drug.csv\" # example SMILES strings (FDA approved drugs)\n",
        "  smiles_raw = pd.read_csv(smiles_path)[\"Isomeric_SMILES\"] # series of SMILES\n",
        "\n",
        "else:\n",
        "  upload_smiles = files.upload() # upload isomeric SMILES\n",
        "  file_name = next(iter(upload_smiles))\n",
        "  data = io.BytesIO(upload_smiles[file_name])\n",
        "  smiles_raw = pd.read_csv(data, header=None)[0] # series of SMILES\n",
        "  print(smiles_raw)\n",
        "\n",
        "smiles = clean_smiles(smiles_raw)\n",
        "for smi in smiles.tolist():\n",
        "    print(smi)"
      ],
      "metadata": {
        "id": "-hyMpAArC3tC"
      },
      "execution_count": null,
      "outputs": []
    },
    {
      "cell_type": "code",
      "execution_count": null,
      "metadata": {
        "id": "xymQ__tbHLhi",
        "cellView": "form"
      },
      "outputs": [],
      "source": [
        "#@title Generate features from input SMILES string(s)\n",
        "\n",
        "print(\"Generating fingerprint...\")\n",
        "Fingerprint(smiles, datapath)\n",
        "adj, feature, graph, edge = generate_npdata(smiles, datapath)\n",
        "\n",
        "print(\"Done\")\n",
        "# print(adj.shape)\n",
        "# print(feature.shape)\n",
        "# print(graph.shape)\n",
        "# print(len(edge))\n",
        "\n",
        "fpc = pd.read_csv(f'{datapath}/fingerprint-nonhash.csv').to_numpy()\n",
        "fpf = pd.read_csv(f'{datapath}/fingerprint-hash.csv').to_numpy()\n",
        "\n",
        "fingfeaf=fpf.shape[-1]\n",
        "fingfeac=fpc.shape[-1]\n",
        "fpfs=[]\n",
        "fpcs=[]\n",
        "Label = [None] * len(edge)\n",
        "for i in fpf:\n",
        "    fpfs.append(torch.FloatTensor(i))\n",
        "for i in fpc:\n",
        "    fpcs.append(torch.FloatTensor(i).unsqueeze(1))"
      ]
    },
    {
      "cell_type": "code",
      "source": [
        "#@title Load data and config\n",
        "\n",
        "dataset, smiles_list = load_dataset(adj, smiles, Label, fpfs, fpcs)\n",
        "test_loader = DataLoader(dataset,batch_size=1,shuffle=False)\n",
        "\n",
        "configs = Configs.parse(f\"configs/sample/{target}-conf.json\")\n",
        "hpconfig = configs['hyperparam']\n",
        "num_atom_features = hpconfig[\"num_atom_features\"]\n",
        "edge_dim = hpconfig[\"edge_dim\"]\n",
        "fingerprint_dim = hpconfig[\"fingerprint_dim\"]\n",
        "num_layers = hpconfig[\"num_layers\"]\n",
        "num_timesteps = hpconfig[\"num_timesteps\"]\n",
        "dropout = 0 # not used in eval mode regardless"
      ],
      "metadata": {
        "id": "sNw3VxYfMxKn",
        "cellView": "form"
      },
      "execution_count": null,
      "outputs": []
    },
    {
      "cell_type": "code",
      "execution_count": null,
      "metadata": {
        "id": "qtzv_3UeHLhj"
      },
      "outputs": [],
      "source": [
        "#@title Run GraphEGFR\n",
        "\n",
        "model = GraphEGFR(num_atom_features,edge_dim, fingerprint_dim,\n",
        "                  num_layers, num_timesteps, dropout, fingfeaf,\n",
        "                  fingfeac, configs)\n",
        "state_dict = torch.load(f\"./state_dict/{target}.pt\")\n",
        "model.load_state_dict(state_dict)\n",
        "model.cpu().eval()\n",
        "if print_architecture:\n",
        "    print(\"== Model Architecture ==\")\n",
        "    print(\"Target:\", target)\n",
        "    print(\"Model:\\n\",model)\n",
        "else:\n",
        "    print()"
      ]
    },
    {
      "cell_type": "code",
      "execution_count": null,
      "metadata": {
        "id": "_pGuMuTtHLhj"
      },
      "outputs": [],
      "source": [
        "#@title Print predicted value(s) in pIC50\n",
        "# @markdown **Note:** pIC50 = -log(IC50)\n",
        "\n",
        "records = {\"smiles\":[]}\n",
        "if \"MTL\" not in target:\n",
        "    index_ans = target_dict[configs[\"target\"]].index(target)\n",
        "    actual_target = target_dict[configs[\"target\"]][index_ans]\n",
        "    records[actual_target] = []\n",
        "else:\n",
        "    for t in target_dict[configs[\"target\"]]:\n",
        "        records[t] = []\n",
        "for data, smi in zip(test_loader, smiles_list):\n",
        "    if \"MTL\" not in target:\n",
        "        value = model(data)[0,index_ans].item()\n",
        "        records[actual_target].append(value)\n",
        "    else:\n",
        "        value = model(data)[0,:].tolist()\n",
        "        for i, v in enumerate(value):\n",
        "            records[target_dict[configs[\"target\"]][i]].append(v)\n",
        "    records[\"smiles\"].append(smi)\n",
        "df_records = pd.DataFrame(records)\n",
        "df_records"
      ]
    }
  ],
  "metadata": {
    "kernelspec": {
      "display_name": "Python 3",
      "name": "python3"
    },
    "language_info": {
      "codemirror_mode": {
        "name": "ipython",
        "version": 3
      },
      "file_extension": ".py",
      "mimetype": "text/x-python",
      "name": "python",
      "nbconvert_exporter": "python",
      "pygments_lexer": "ipython3",
      "version": "3.7.9"
    },
    "colab": {
      "provenance": [],
      "include_colab_link": true
    }
  },
  "nbformat": 4,
  "nbformat_minor": 0
}