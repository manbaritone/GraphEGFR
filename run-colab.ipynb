{
 "cells": [
  {
   "cell_type": "markdown",
   "metadata": {},
   "source": [
    "# Import and Setup"
   ]
  },
  {
   "cell_type": "code",
   "execution_count": null,
   "metadata": {},
   "outputs": [],
   "source": [
    "# Clone the entire repo\n",
    "%rm -rf .temp/\n",
    "!git clone -l -s https://github.com/manbaritone/GraphEGFR .temp\n",
    "%rm .temp/run.ipynb\n",
    "%mv .temp/* ./\n",
    "%rm -rf .temp/*"
   ]
  },
  {
   "cell_type": "code",
   "execution_count": null,
   "metadata": {},
   "outputs": [],
   "source": [
    "# Install Python dependencies\n",
    "%pip install rdkit\n",
    "%pip install deepchem\n",
    "%pip install JPype1\n",
    "%pip install torch_geometric\n",
    "%pip install dgl dgllife\n",
    "%pip install pybel"
   ]
  },
  {
   "cell_type": "code",
   "execution_count": null,
   "metadata": {},
   "outputs": [],
   "source": [
    "# Download large required project files for the test\n",
    "!wget https://zenodo.org/records/8051021/files/GraphEGFR.tar.gz\n",
    "!tar -xvf /content/GraphEGFR.tar.gz -C ."
   ]
  },
  {
   "cell_type": "code",
   "execution_count": 1,
   "metadata": {
    "scrolled": true
   },
   "outputs": [
    {
     "name": "stderr",
     "output_type": "stream",
     "text": [
      "2024-05-06 00:20:47.043095: I tensorflow/core/util/util.cc:169] oneDNN custom operations are on. You may see slightly different numerical results due to floating-point round-off errors from different computation orders. To turn them off, set the environment variable `TF_ENABLE_ONEDNN_OPTS=0`.\n"
     ]
    }
   ],
   "source": [
    "import pandas as pd\n",
    "import os\n",
    "import torch\n",
    "from torch_geometric.loader import DataLoader\n",
    "\n",
    "from graphegfr.models import GraphEGFR\n",
    "from graphegfr.configs import Configs\n",
    "from graphegfr.fingerprint import Fingerprint\n",
    "from graphegfr.featurizer import generate_npdata, clean_smiles\n",
    "from graphegfr.dataset import load_dataset"
   ]
  },
  {
   "cell_type": "code",
   "execution_count": 2,
   "metadata": {},
   "outputs": [],
   "source": [
    "target_dict = {\n",
    "    r'MTL_HER124': ['HER1','HER2','HER4'],\n",
    "    r'MTL_ALL_WT_MT': ['HER1','HER2','HER4','T790M_L858R','L858R','delE746_A750','T790M'],\n",
    "    r'MTL_HER1_ALL_MT': ['HER1','T790M_L858R','L858R','delE746_A750','T790M'],\n",
    "    r'MTL_ALL_MT': ['T790M_L858R','L858R','delE746_A750','T790M'],\n",
    "    r'HER1':['HER1'],\n",
    "    r'HER2':['HER2'],\n",
    "    r'HER4':['HER4'],\n",
    "    r'T790M_L858R':['T790M_L858R'],\n",
    "    r'L858R':['L858R'],\n",
    "    r'delE746_A750':['delE746_A750'],\n",
    "    r'T790M':['T790M']\n",
    "}"
   ]
  },
  {
   "cell_type": "markdown",
   "metadata": {},
   "source": [
    "# Main Section"
   ]
  },
  {
   "cell_type": "code",
   "execution_count": 3,
   "metadata": {
    "scrolled": true
   },
   "outputs": [
    {
     "name": "stdout",
     "output_type": "stream",
     "text": [
      "Number of defect: 0\n",
      "C#Cc1cccc(Nc2ncnc3cc(OCCOC)c(OCCOC)cc23)c1\n",
      "C=CC(=O)Nc1cc(Nc2nccc(-c3cn(C)c4ccccc34)n2)c(OC)cc1N(C)CCN(C)C\n",
      "COc1cc2ncnc(Nc3ccc(F)c(Cl)c3)c2cc1OCCCN1CCOCC1\n",
      "CN(C)C/C=C/C(=O)Nc1cc2c(Nc3ccc(F)c(Cl)c3)ncnc2cc1O[C@H]1CCOC1\n",
      "COc1cc2ncnc(Nc3ccc(F)c(Cl)c3)c2cc1NC(=O)/C=C/CN1CCCCC1\n",
      "CS(=O)(=O)CCNCc1ccc(-c2ccc3ncnc(Nc4ccc(OCc5cccc(F)c5)c(Cl)c4)c3c2)o1\n",
      "CCOc1cc2ncc(C#N)c(Nc3ccc(OCc4ccccn4)c(Cl)c3)c2cc1NC(=O)/C=C/CN(C)C\n",
      "COc1cc2c(Nc3ccc(Br)cc3F)ncnc2cc1OCC1CCN(C)CC1\n",
      "C=CC(=O)Nc1cc(Nc2ncc(C(=O)OC(C)C)c(-c3cn(C)c4ccccc34)n2)c(OC)cc1N(C)CCN(C)C\n",
      "COc1cc(N2CCC(N3CCN(C)CC3)CC2)ccc1Nc1ncc(Cl)c(Nc2ccccc2P(C)(C)=O)n1\n",
      "Cc1cc(Nc2ncnc3ccc(NC4=NC(C)(C)CO4)cc23)ccc1Oc1ccn2ncnc2c1\n"
     ]
    }
   ],
   "source": [
    "datapath = \".temp\" # path to save generated fingerprint \n",
    "smiles_path = \"resources/LigEGFR/data_prep/0_rawdata/drug/FDA_drug.csv\"\n",
    "\n",
    "smiles_raw = pd.read_csv(smiles_path)[\"Isomeric_SMILES\"] # series of SMILES\n",
    "smiles = clean_smiles(smiles_raw)\n",
    "for smi in smiles.tolist():\n",
    "    print(smi)"
   ]
  },
  {
   "cell_type": "code",
   "execution_count": 4,
   "metadata": {},
   "outputs": [
    {
     "name": "stdout",
     "output_type": "stream",
     "text": [
      "Generating fingerprint...\n"
     ]
    },
    {
     "name": "stderr",
     "output_type": "stream",
     "text": [
      "0it [00:00, ?it/s]\n",
      "100%|██████████| 11/11 [00:01<00:00,  6.89it/s]\n",
      "100%|██████████| 11/11 [00:00<00:00, 18.53it/s]\n",
      "100%|██████████| 11/11 [00:00<00:00, 24.68it/s]\n",
      "100%|██████████| 11/11 [00:00<00:00, 14.97it/s]\n",
      "100%|██████████| 11/11 [00:00<00:00, 46.83it/s]\n",
      "100%|██████████| 11/11 [00:00<00:00, 24.93it/s]\n",
      "100%|██████████| 11/11 [00:00<00:00, 50.35it/s]\n",
      "100%|██████████| 11/11 [00:00<00:00, 13.25it/s]\n",
      "100%|██████████| 11/11 [00:00<00:00, 52.92it/s]\n",
      "100%|██████████| 11/11 [00:00<00:00, 433.97it/s]\n",
      "100%|██████████| 11/11 [00:00<00:00, 354.53it/s]\n",
      "100%|██████████| 11/11 [00:00<00:00, 462.34it/s]\n",
      "100%|██████████| 11/11 [00:00<00:00, 686.39it/s]\n",
      "100%|██████████| 11/11 [00:00<00:00, 995.97it/s]\n",
      "100%|██████████| 11/11 [00:00<00:00, 402.92it/s]\n",
      "100%|██████████| 11/11 [00:00<00:00, 27.70it/s]\n",
      "0it [00:00, ?it/s]\n",
      "100%|██████████| 11/11 [00:00<00:00, 422.38it/s]\n",
      "100%|██████████| 11/11 [00:00<00:00, 424.35it/s]\n",
      "100%|██████████| 11/11 [00:00<00:00, 426.05it/s]\n",
      "100%|██████████| 11/11 [00:00<00:00, 933.90it/s]\n",
      "100%|██████████| 11/11 [00:00<00:00, 5589.70it/s]\n",
      "100%|██████████| 11/11 [00:00<00:00, 421.11it/s]\n",
      "100%|██████████| 11/11 [00:00<00:00, 425.74it/s]\n",
      "100%|██████████| 11/11 [00:00<00:00, 184.50it/s]\n",
      "100%|██████████| 11/11 [00:00<00:00, 424.17it/s]\n",
      "100%|██████████| 11/11 [00:00<00:00, 422.41it/s]\n",
      "100%|██████████| 11/11 [00:00<00:00, 3608.14it/s]\n",
      "100%|██████████| 11/11 [00:00<00:00, 424.86it/s]\n",
      "100%|██████████| 11/11 [00:00<00:00, 420.54it/s]\n",
      "100%|██████████| 11/11 [00:00<00:00, 423.12it/s]\n",
      "100%|██████████| 11/11 [00:00<00:00, 425.88it/s]\n",
      "100%|██████████| 11/11 [00:00<00:00, 421.65it/s]\n",
      "100%|██████████| 11/11 [00:00<00:00, 3909.61it/s]\n",
      "100%|██████████| 11/11 [00:00<00:00, 4049.27it/s]\n",
      "100%|██████████| 11/11 [00:00<00:00, 4016.48it/s]\n",
      "100%|██████████| 11/11 [00:00<00:00, 8196.37it/s]\n",
      "100%|██████████| 11/11 [00:00<00:00, 35112.13it/s]\n",
      "100%|██████████| 11/11 [00:00<00:00, 4045.01it/s]\n",
      "100%|██████████| 11/11 [00:00<00:00, 4014.04it/s]\n",
      "100%|██████████| 11/11 [00:00<00:00, 1741.43it/s]\n",
      "100%|██████████| 11/11 [00:00<00:00, 4017.53it/s]\n",
      "100%|██████████| 11/11 [00:00<00:00, 4046.78it/s]\n",
      "100%|██████████| 11/11 [00:00<00:00, 25731.93it/s]\n",
      "100%|██████████| 11/11 [00:00<00:00, 4036.87it/s]\n",
      "100%|██████████| 11/11 [00:00<00:00, 3931.94it/s]\n",
      "100%|██████████| 11/11 [00:00<00:00, 4042.53it/s]\n",
      "100%|██████████| 11/11 [00:00<00:00, 4007.06it/s]\n",
      "100%|██████████| 11/11 [00:00<00:00, 4012.64it/s]\n"
     ]
    },
    {
     "name": "stdout",
     "output_type": "stream",
     "text": [
      "Done\n"
     ]
    }
   ],
   "source": [
    "print(\"Generating fingerprint...\")\n",
    "Fingerprint(smiles, datapath)\n",
    "adj, feature, graph, edge = generate_npdata(smiles, datapath)\n",
    "\n",
    "print(\"Done\")\n",
    "# print(adj.shape)\n",
    "# print(feature.shape)\n",
    "# print(graph.shape)\n",
    "# print(len(edge))"
   ]
  },
  {
   "cell_type": "code",
   "execution_count": 5,
   "metadata": {},
   "outputs": [],
   "source": [
    "# Generated from the above cell\n",
    "fpc = pd.read_csv(f'{datapath}/fingerprint-nonhash.csv').to_numpy()\n",
    "fpf = pd.read_csv(f'{datapath}/fingerprint-hash.csv').to_numpy()\n",
    "\n",
    "fingfeaf=fpf.shape[-1]\n",
    "fingfeac=fpc.shape[-1]\n",
    "fpfs=[]\n",
    "fpcs=[]\n",
    "Label = [None] * len(edge)\n",
    "for i in fpf:\n",
    "    fpfs.append(torch.FloatTensor(i))\n",
    "for i in fpc:\n",
    "    fpcs.append(torch.FloatTensor(i).unsqueeze(1))"
   ]
  },
  {
   "cell_type": "code",
   "execution_count": 6,
   "metadata": {},
   "outputs": [],
   "source": [
    "dataset, smiles_list = load_dataset(adj, smiles, Label, fpfs, fpcs)"
   ]
  },
  {
   "cell_type": "code",
   "execution_count": 7,
   "metadata": {},
   "outputs": [],
   "source": [
    "test_loader = DataLoader(dataset,batch_size=1,shuffle=False)"
   ]
  },
  {
   "cell_type": "code",
   "execution_count": 11,
   "metadata": {},
   "outputs": [
    {
     "name": "stdout",
     "output_type": "stream",
     "text": [
      "MTL_HER124\n",
      "MTL_ALL_WT_MT\n",
      "MTL_HER1_ALL_MT\n",
      "MTL_ALL_MT\n",
      "HER1\n",
      "HER2\n",
      "HER4\n",
      "T790M_L858R\n",
      "L858R\n",
      "delE746_A750\n",
      "T790M\n"
     ]
    }
   ],
   "source": [
    "# list all possible targets\n",
    "for i in target_dict:\n",
    "    print(i)"
   ]
  },
  {
   "cell_type": "code",
   "execution_count": 54,
   "metadata": {},
   "outputs": [
    {
     "name": "stdout",
     "output_type": "stream",
     "text": [
      "\n"
     ]
    }
   ],
   "source": [
    "# enter target here\n",
    "target = \"T790M_L858R\"\n",
    "print_architecture = False\n",
    "\n",
    "configs = Configs.parse(f\"configs/sample/{target}-conf.json\")\n",
    "hpconfig = configs['hyperparam']\n",
    "num_atom_features = hpconfig[\"num_atom_features\"]\n",
    "edge_dim = hpconfig[\"edge_dim\"]\n",
    "fingerprint_dim = hpconfig[\"fingerprint_dim\"]\n",
    "num_layers = hpconfig[\"num_layers\"]\n",
    "num_timesteps = hpconfig[\"num_timesteps\"]\n",
    "dropout = 0 # not used in eval mode regardless\n",
    "\n",
    "model = GraphEGFR(num_atom_features,edge_dim, fingerprint_dim,\n",
    "                  num_layers, num_timesteps, dropout, fingfeaf, \n",
    "                  fingfeac, configs)\n",
    "state_dict = torch.load(f\"./state_dict/{target}.pt\")\n",
    "model.load_state_dict(state_dict)\n",
    "model.cpu().eval()\n",
    "if print_architecture: \n",
    "    print(\"== Model Architecture ==\")\n",
    "    print(\"Target:\", target)\n",
    "    print(\"Model:\\n\",model)\n",
    "else:\n",
    "    print()"
   ]
  },
  {
   "cell_type": "code",
   "execution_count": 55,
   "metadata": {},
   "outputs": [
    {
     "data": {
      "text/html": [
       "<div>\n",
       "<style scoped>\n",
       "    .dataframe tbody tr th:only-of-type {\n",
       "        vertical-align: middle;\n",
       "    }\n",
       "\n",
       "    .dataframe tbody tr th {\n",
       "        vertical-align: top;\n",
       "    }\n",
       "\n",
       "    .dataframe thead th {\n",
       "        text-align: right;\n",
       "    }\n",
       "</style>\n",
       "<table border=\"1\" class=\"dataframe\">\n",
       "  <thead>\n",
       "    <tr style=\"text-align: right;\">\n",
       "      <th></th>\n",
       "      <th>smiles</th>\n",
       "      <th>T790M_L858R</th>\n",
       "    </tr>\n",
       "  </thead>\n",
       "  <tbody>\n",
       "    <tr>\n",
       "      <th>0</th>\n",
       "      <td>C#Cc1cccc(Nc2ncnc3cc(OCCOC)c(OCCOC)cc23)c1</td>\n",
       "      <td>5.054158</td>\n",
       "    </tr>\n",
       "    <tr>\n",
       "      <th>1</th>\n",
       "      <td>C=CC(=O)Nc1cc(Nc2nccc(-c3cn(C)c4ccccc34)n2)c(O...</td>\n",
       "      <td>8.412347</td>\n",
       "    </tr>\n",
       "    <tr>\n",
       "      <th>2</th>\n",
       "      <td>COc1cc2ncnc(Nc3ccc(F)c(Cl)c3)c2cc1OCCCN1CCOCC1</td>\n",
       "      <td>6.121329</td>\n",
       "    </tr>\n",
       "    <tr>\n",
       "      <th>3</th>\n",
       "      <td>CN(C)C/C=C/C(=O)Nc1cc2c(Nc3ccc(F)c(Cl)c3)ncnc2...</td>\n",
       "      <td>7.915504</td>\n",
       "    </tr>\n",
       "    <tr>\n",
       "      <th>4</th>\n",
       "      <td>COc1cc2ncnc(Nc3ccc(F)c(Cl)c3)c2cc1NC(=O)/C=C/C...</td>\n",
       "      <td>7.489783</td>\n",
       "    </tr>\n",
       "    <tr>\n",
       "      <th>5</th>\n",
       "      <td>CS(=O)(=O)CCNCc1ccc(-c2ccc3ncnc(Nc4ccc(OCc5ccc...</td>\n",
       "      <td>7.514225</td>\n",
       "    </tr>\n",
       "    <tr>\n",
       "      <th>6</th>\n",
       "      <td>CCOc1cc2ncc(C#N)c(Nc3ccc(OCc4ccccn4)c(Cl)c3)c2...</td>\n",
       "      <td>7.232996</td>\n",
       "    </tr>\n",
       "    <tr>\n",
       "      <th>7</th>\n",
       "      <td>COc1cc2c(Nc3ccc(Br)cc3F)ncnc2cc1OCC1CCN(C)CC1</td>\n",
       "      <td>6.271029</td>\n",
       "    </tr>\n",
       "    <tr>\n",
       "      <th>8</th>\n",
       "      <td>C=CC(=O)Nc1cc(Nc2ncc(C(=O)OC(C)C)c(-c3cn(C)c4c...</td>\n",
       "      <td>8.828916</td>\n",
       "    </tr>\n",
       "    <tr>\n",
       "      <th>9</th>\n",
       "      <td>COc1cc(N2CCC(N3CCN(C)CC3)CC2)ccc1Nc1ncc(Cl)c(N...</td>\n",
       "      <td>7.301531</td>\n",
       "    </tr>\n",
       "    <tr>\n",
       "      <th>10</th>\n",
       "      <td>Cc1cc(Nc2ncnc3ccc(NC4=NC(C)(C)CO4)cc23)ccc1Oc1...</td>\n",
       "      <td>6.631265</td>\n",
       "    </tr>\n",
       "  </tbody>\n",
       "</table>\n",
       "</div>"
      ],
      "text/plain": [
       "                                               smiles  T790M_L858R\n",
       "0          C#Cc1cccc(Nc2ncnc3cc(OCCOC)c(OCCOC)cc23)c1     5.054158\n",
       "1   C=CC(=O)Nc1cc(Nc2nccc(-c3cn(C)c4ccccc34)n2)c(O...     8.412347\n",
       "2      COc1cc2ncnc(Nc3ccc(F)c(Cl)c3)c2cc1OCCCN1CCOCC1     6.121329\n",
       "3   CN(C)C/C=C/C(=O)Nc1cc2c(Nc3ccc(F)c(Cl)c3)ncnc2...     7.915504\n",
       "4   COc1cc2ncnc(Nc3ccc(F)c(Cl)c3)c2cc1NC(=O)/C=C/C...     7.489783\n",
       "5   CS(=O)(=O)CCNCc1ccc(-c2ccc3ncnc(Nc4ccc(OCc5ccc...     7.514225\n",
       "6   CCOc1cc2ncc(C#N)c(Nc3ccc(OCc4ccccn4)c(Cl)c3)c2...     7.232996\n",
       "7       COc1cc2c(Nc3ccc(Br)cc3F)ncnc2cc1OCC1CCN(C)CC1     6.271029\n",
       "8   C=CC(=O)Nc1cc(Nc2ncc(C(=O)OC(C)C)c(-c3cn(C)c4c...     8.828916\n",
       "9   COc1cc(N2CCC(N3CCN(C)CC3)CC2)ccc1Nc1ncc(Cl)c(N...     7.301531\n",
       "10  Cc1cc(Nc2ncnc3ccc(NC4=NC(C)(C)CO4)cc23)ccc1Oc1...     6.631265"
      ]
     },
     "execution_count": 55,
     "metadata": {},
     "output_type": "execute_result"
    }
   ],
   "source": [
    "records = {\"smiles\":[]}\n",
    "if \"MTL\" not in target:\n",
    "    index_ans = target_dict[configs[\"target\"]].index(target)\n",
    "    actual_target = target_dict[configs[\"target\"]][index_ans]\n",
    "    records[actual_target] = []\n",
    "else:\n",
    "    for t in target_dict[configs[\"target\"]]:\n",
    "        records[t] = []\n",
    "for data, smi in zip(test_loader, smiles_list):\n",
    "    if \"MTL\" not in target:\n",
    "        value = model(data)[0,index_ans].item()\n",
    "        records[actual_target].append(value)\n",
    "    else:\n",
    "        value = model(data)[0,:].tolist()\n",
    "        for i, v in enumerate(value):\n",
    "            records[target_dict[configs[\"target\"]][i]].append(v) \n",
    "    records[\"smiles\"].append(smi)\n",
    "df_records = pd.DataFrame(records)\n",
    "df_records"
   ]
  },
  {
   "cell_type": "code",
   "execution_count": null,
   "metadata": {},
   "outputs": [],
   "source": []
  }
 ],
 "metadata": {
  "kernelspec": {
   "display_name": "Python 3 (ipykernel)",
   "language": "python",
   "name": "python3"
  },
  "language_info": {
   "codemirror_mode": {
    "name": "ipython",
    "version": 3
   },
   "file_extension": ".py",
   "mimetype": "text/x-python",
   "name": "python",
   "nbconvert_exporter": "python",
   "pygments_lexer": "ipython3",
   "version": "3.7.9"
  }
 },
 "nbformat": 4,
 "nbformat_minor": 2
}
