{
  "cells": [
    {
      "cell_type": "markdown",
      "metadata": {
        "id": "Iswx0wnZHLhd"
      },
      "source": [
        "# Import and Setup"
      ]
    },
    {
      "cell_type": "code",
      "execution_count": 1,
      "metadata": {
        "colab": {
          "base_uri": "https://localhost:8080/"
        },
        "id": "VKwtT51nHLhe",
        "outputId": "ea05e0bc-dd4b-4f3c-9516-8e4ef1c9c043"
      },
      "outputs": [
        {
          "output_type": "stream",
          "name": "stdout",
          "text": [
            "Cloning into '.proj.temp'...\n",
            "warning: --local is ignored\n",
            "remote: Enumerating objects: 178, done.\u001b[K\n",
            "remote: Counting objects: 100% (178/178), done.\u001b[K\n",
            "remote: Compressing objects: 100% (112/112), done.\u001b[K\n",
            "remote: Total 178 (delta 100), reused 123 (delta 60), pack-reused 0\u001b[K\n",
            "Receiving objects: 100% (178/178), 541.91 KiB | 2.24 MiB/s, done.\n",
            "Resolving deltas: 100% (100/100), done.\n"
          ]
        }
      ],
      "source": [
        "# Clone the entire repo\n",
        "!git clone -l -s https://github.com/manbaritone/GraphEGFR .proj.temp/\n",
        "%rm .proj.temp/run.ipynb\n",
        "%mv .proj.temp/* ./\n",
        "%rm -r .proj.temp/"
      ]
    },
    {
      "cell_type": "code",
      "source": [
        "!pip install -q condacolab\n",
        "import condacolab\n",
        "import sys\n",
        "condacolab.install()\n",
        "!echo $PYTHONPATH\n",
        "%env PYTHONPATH=/usr/local/bin/python3.10"
      ],
      "metadata": {
        "colab": {
          "base_uri": "https://localhost:8080/"
        },
        "id": "IieP9pr5OXf_",
        "outputId": "f9301a58-aa21-4d0e-a0bc-fe1a7445f393"
      },
      "execution_count": 2,
      "outputs": [
        {
          "output_type": "stream",
          "name": "stdout",
          "text": [
            "⏬ Downloading https://github.com/conda-forge/miniforge/releases/download/23.11.0-0/Mambaforge-23.11.0-0-Linux-x86_64.sh...\n",
            "📦 Installing...\n",
            "📌 Adjusting configuration...\n",
            "🩹 Patching environment...\n",
            "⏲ Done in 0:00:13\n",
            "🔁 Restarting kernel...\n",
            "/env/python\n",
            "env: PYTHONPATH=/usr/local/bin/python3.10\n"
          ]
        }
      ]
    },
    {
      "cell_type": "code",
      "source": [
        "import condacolab\n",
        "condacolab.check()"
      ],
      "metadata": {
        "colab": {
          "base_uri": "https://localhost:8080/"
        },
        "id": "3LfW6LKnzoUG",
        "outputId": "073edb0b-34d6-41dd-ab6c-6f47842fd884"
      },
      "execution_count": 1,
      "outputs": [
        {
          "output_type": "stream",
          "name": "stdout",
          "text": [
            "✨🍰✨ Everything looks OK!\n"
          ]
        }
      ]
    },
    {
      "cell_type": "code",
      "execution_count": null,
      "metadata": {
        "id": "X6iXEDI_HLhf"
      },
      "outputs": [],
      "source": [
        "# Install Python dependencies\n",
        "!pip install scikit-learn==1.2.2\n",
        "!pip install imblearn\n",
        "!conda install conda-forge::openbabel\n",
        "!python -m pip install rdkit\n",
        "!python -m pip install deepchem==2.5.0\n",
        "!python -m pip install JPype1\n",
        "!pip install torch==2.0.0\n",
        "!pip install torch_geometric\n",
        "!pip install pyg_lib torch_scatter torch_sparse torch_cluster torch_spline_conv -f https://data.pyg.org/whl/torch-2.0.0+cu118.html\n",
        "!python -m pip install torchmetrics\n",
        "!pip install dgl==1.1.3 -f https://data.dgl.ai/wheels/cu118/repo.html\n",
        "!pip install dgllife\n"
      ]
    },
    {
      "cell_type": "code",
      "execution_count": null,
      "metadata": {
        "id": "6WD2gCuHHLhg"
      },
      "outputs": [],
      "source": [
        "# Download large required project files for the test\n",
        "!wget https://zenodo.org/records/11118070/files/GraphEGFR.tar.gz\n",
        "!tar -xvf /content/GraphEGFR.tar.gz --warning=no-unknown-keyword -C .\n",
        "!rm GraphEGFR/*.ipynb\n",
        "!mv GraphEGFR/* ./\n",
        "!rm -r GraphEGFR"
      ]
    },
    {
      "cell_type": "code",
      "execution_count": 11,
      "metadata": {
        "scrolled": true,
        "id": "K6tJLfKQHLhg"
      },
      "outputs": [],
      "source": [
        "import pandas as pd\n",
        "import os\n",
        "import torch\n",
        "from torch_geometric.loader import DataLoader\n",
        "\n",
        "from graphegfr.models import GraphEGFR\n",
        "from graphegfr.configs import Configs\n",
        "from graphegfr.fingerprint import Fingerprint\n",
        "from graphegfr.featurizer import generate_npdata, clean_smiles\n",
        "from graphegfr.dataset import load_dataset"
      ]
    },
    {
      "cell_type": "code",
      "execution_count": 12,
      "metadata": {
        "id": "9nwYm7OJHLhh"
      },
      "outputs": [],
      "source": [
        "target_dict = {\n",
        "    r'MTL_HER124': ['HER1','HER2','HER4'],\n",
        "    r'MTL_ALL_WT_MT': ['HER1','HER2','HER4','T790M_L858R','L858R','delE746_A750','T790M'],\n",
        "    r'MTL_HER1_ALL_MT': ['HER1','T790M_L858R','L858R','delE746_A750','T790M'],\n",
        "    r'MTL_ALL_MT': ['T790M_L858R','L858R','delE746_A750','T790M'],\n",
        "    r'HER1':['HER1'],\n",
        "    r'HER2':['HER2'],\n",
        "    r'HER4':['HER4'],\n",
        "    r'T790M_L858R':['T790M_L858R'],\n",
        "    r'L858R':['L858R'],\n",
        "    r'delE746_A750':['delE746_A750'],\n",
        "    r'T790M':['T790M']\n",
        "}"
      ]
    },
    {
      "cell_type": "markdown",
      "metadata": {
        "id": "9fr8MMkGHLhh"
      },
      "source": [
        "# Main Section"
      ]
    },
    {
      "cell_type": "code",
      "execution_count": 21,
      "metadata": {
        "scrolled": true,
        "colab": {
          "base_uri": "https://localhost:8080/"
        },
        "id": "_0hLbuRLHLhh",
        "outputId": "0c8ffe64-cdb3-4d0b-b983-b913a575bb50"
      },
      "outputs": [
        {
          "output_type": "stream",
          "name": "stdout",
          "text": [
            "Number of defect: 0\n",
            "C#Cc1cccc(Nc2ncnc3cc(OCCOC)c(OCCOC)cc23)c1\n",
            "C#Cc1nn([C@@H]2CCCN(C(=O)C=C)C2)c2ncnc(N)c12\n",
            "C=C=CC(=O)Nc1cc(Nc2ncc(C)c(-c3cn(C)c4ccccc34)n2)c(OC)cc1N(C)CCN(C)C\n",
            "C=C=CC(=O)Nc1cc(Nc2ncc(OC)c(-c3cn(C)c4ccccc34)n2)c(OC)cc1N(C)CCN(C)C\n",
            "C=C=CC(=O)Nc1cc(Nc2nccc(-c3c[nH]c4ccccc34)n2)c(OC)cc1N(C)CCN(C)C\n"
          ]
        }
      ],
      "source": [
        "# enter target here\n",
        "target = \"T790M_L858R\"\n",
        "print_architecture = False\n",
        "\n",
        "datapath = \".temp\" # path to save generated fingerprint\n",
        "smiles_path = f\"resources/LigEGFR/data/{target}.csv\"\n",
        "\n",
        "# smiles_raw can be of any iterable type containing SMILES\n",
        "smiles_raw = pd.read_csv(smiles_path)[\"SMILES_NS\"] # series of SMILES\n",
        "\n",
        "smiles = clean_smiles(smiles_raw)\n",
        "smiles = smiles.iloc[:5] # remove this row if you don't want to sample\n",
        "for smi in smiles.tolist():\n",
        "    print(smi)"
      ]
    },
    {
      "cell_type": "code",
      "execution_count": null,
      "metadata": {
        "id": "ADLaY6ZhHLhi"
      },
      "outputs": [],
      "source": [
        "print(\"Generating fingerprint...\")\n",
        "Fingerprint(smiles, datapath)\n",
        "adj, feature, graph, edge = generate_npdata(smiles, datapath)\n",
        "\n",
        "print(\"Done\")\n",
        "# print(adj.shape)\n",
        "# print(feature.shape)\n",
        "# print(graph.shape)\n",
        "# print(len(edge))"
      ]
    },
    {
      "cell_type": "code",
      "execution_count": 15,
      "metadata": {
        "id": "xymQ__tbHLhi"
      },
      "outputs": [],
      "source": [
        "# Generated from the above cell\n",
        "fpc = pd.read_csv(f'{datapath}/fingerprint-nonhash.csv').to_numpy()\n",
        "fpf = pd.read_csv(f'{datapath}/fingerprint-hash.csv').to_numpy()\n",
        "\n",
        "fingfeaf=fpf.shape[-1]\n",
        "fingfeac=fpc.shape[-1]\n",
        "fpfs=[]\n",
        "fpcs=[]\n",
        "Label = [None] * len(edge)\n",
        "for i in fpf:\n",
        "    fpfs.append(torch.FloatTensor(i))\n",
        "for i in fpc:\n",
        "    fpcs.append(torch.FloatTensor(i).unsqueeze(1))"
      ]
    },
    {
      "cell_type": "code",
      "execution_count": 16,
      "metadata": {
        "id": "CeKqaW0hHLhi"
      },
      "outputs": [],
      "source": [
        "dataset, smiles_list = load_dataset(adj, smiles, Label, fpfs, fpcs)"
      ]
    },
    {
      "cell_type": "code",
      "execution_count": 17,
      "metadata": {
        "id": "qC215qqeHLhj"
      },
      "outputs": [],
      "source": [
        "test_loader = DataLoader(dataset,batch_size=1,shuffle=False)"
      ]
    },
    {
      "cell_type": "code",
      "execution_count": 18,
      "metadata": {
        "colab": {
          "base_uri": "https://localhost:8080/"
        },
        "id": "syt43RxUHLhj",
        "outputId": "46ecd00c-c9b2-447b-8636-ef61e77f751e"
      },
      "outputs": [
        {
          "output_type": "stream",
          "name": "stdout",
          "text": [
            "MTL_HER124\n",
            "MTL_ALL_WT_MT\n",
            "MTL_HER1_ALL_MT\n",
            "MTL_ALL_MT\n",
            "HER1\n",
            "HER2\n",
            "HER4\n",
            "T790M_L858R\n",
            "L858R\n",
            "delE746_A750\n",
            "T790M\n"
          ]
        }
      ],
      "source": [
        "# list all possible targets\n",
        "for i in target_dict:\n",
        "    print(i)"
      ]
    },
    {
      "cell_type": "code",
      "execution_count": 19,
      "metadata": {
        "colab": {
          "base_uri": "https://localhost:8080/"
        },
        "id": "qtzv_3UeHLhj",
        "outputId": "28cb56f8-35a7-40be-baf6-376e512d2ad9"
      },
      "outputs": [
        {
          "output_type": "stream",
          "name": "stdout",
          "text": [
            "\n"
          ]
        }
      ],
      "source": [
        "configs = Configs.parse(f\"configs/sample/{target}-conf.json\")\n",
        "hpconfig = configs['hyperparam']\n",
        "num_atom_features = hpconfig[\"num_atom_features\"]\n",
        "edge_dim = hpconfig[\"edge_dim\"]\n",
        "fingerprint_dim = hpconfig[\"fingerprint_dim\"]\n",
        "num_layers = hpconfig[\"num_layers\"]\n",
        "num_timesteps = hpconfig[\"num_timesteps\"]\n",
        "dropout = 0 # not used in eval mode regardless\n",
        "\n",
        "model = GraphEGFR(num_atom_features,edge_dim, fingerprint_dim,\n",
        "                  num_layers, num_timesteps, dropout, fingfeaf,\n",
        "                  fingfeac, configs)\n",
        "state_dict = torch.load(f\"./state_dict/{target}.pt\")\n",
        "model.load_state_dict(state_dict)\n",
        "model.cpu().eval()\n",
        "if print_architecture:\n",
        "    print(\"== Model Architecture ==\")\n",
        "    print(\"Target:\", target)\n",
        "    print(\"Model:\\n\",model)\n",
        "else:\n",
        "    print()"
      ]
    },
    {
      "cell_type": "code",
      "execution_count": 20,
      "metadata": {
        "colab": {
          "base_uri": "https://localhost:8080/",
          "height": 206
        },
        "id": "_pGuMuTtHLhj",
        "outputId": "e26f4c3b-2e71-46f5-8a7e-932631bf8703"
      },
      "outputs": [
        {
          "output_type": "execute_result",
          "data": {
            "text/plain": [
              "                                              smiles  T790M_L858R\n",
              "0         C#Cc1cccc(Nc2ncnc3cc(OCCOC)c(OCCOC)cc23)c1     5.054157\n",
              "1       C#Cc1nn([C@@H]2CCCN(C(=O)C=C)C2)c2ncnc(N)c12     6.057258\n",
              "2  C=C=CC(=O)Nc1cc(Nc2ncc(C)c(-c3cn(C)c4ccccc34)n...     8.891642\n",
              "3  C=C=CC(=O)Nc1cc(Nc2ncc(OC)c(-c3cn(C)c4ccccc34)...     8.990313\n",
              "4  C=C=CC(=O)Nc1cc(Nc2nccc(-c3c[nH]c4ccccc34)n2)c...     8.798269"
            ],
            "text/html": [
              "\n",
              "  <div id=\"df-c9696b68-c8e9-4661-acf1-622f1605bcf8\" class=\"colab-df-container\">\n",
              "    <div>\n",
              "<style scoped>\n",
              "    .dataframe tbody tr th:only-of-type {\n",
              "        vertical-align: middle;\n",
              "    }\n",
              "\n",
              "    .dataframe tbody tr th {\n",
              "        vertical-align: top;\n",
              "    }\n",
              "\n",
              "    .dataframe thead th {\n",
              "        text-align: right;\n",
              "    }\n",
              "</style>\n",
              "<table border=\"1\" class=\"dataframe\">\n",
              "  <thead>\n",
              "    <tr style=\"text-align: right;\">\n",
              "      <th></th>\n",
              "      <th>smiles</th>\n",
              "      <th>T790M_L858R</th>\n",
              "    </tr>\n",
              "  </thead>\n",
              "  <tbody>\n",
              "    <tr>\n",
              "      <th>0</th>\n",
              "      <td>C#Cc1cccc(Nc2ncnc3cc(OCCOC)c(OCCOC)cc23)c1</td>\n",
              "      <td>5.054157</td>\n",
              "    </tr>\n",
              "    <tr>\n",
              "      <th>1</th>\n",
              "      <td>C#Cc1nn([C@@H]2CCCN(C(=O)C=C)C2)c2ncnc(N)c12</td>\n",
              "      <td>6.057258</td>\n",
              "    </tr>\n",
              "    <tr>\n",
              "      <th>2</th>\n",
              "      <td>C=C=CC(=O)Nc1cc(Nc2ncc(C)c(-c3cn(C)c4ccccc34)n...</td>\n",
              "      <td>8.891642</td>\n",
              "    </tr>\n",
              "    <tr>\n",
              "      <th>3</th>\n",
              "      <td>C=C=CC(=O)Nc1cc(Nc2ncc(OC)c(-c3cn(C)c4ccccc34)...</td>\n",
              "      <td>8.990313</td>\n",
              "    </tr>\n",
              "    <tr>\n",
              "      <th>4</th>\n",
              "      <td>C=C=CC(=O)Nc1cc(Nc2nccc(-c3c[nH]c4ccccc34)n2)c...</td>\n",
              "      <td>8.798269</td>\n",
              "    </tr>\n",
              "  </tbody>\n",
              "</table>\n",
              "</div>\n",
              "    <div class=\"colab-df-buttons\">\n",
              "\n",
              "  <div class=\"colab-df-container\">\n",
              "    <button class=\"colab-df-convert\" onclick=\"convertToInteractive('df-c9696b68-c8e9-4661-acf1-622f1605bcf8')\"\n",
              "            title=\"Convert this dataframe to an interactive table.\"\n",
              "            style=\"display:none;\">\n",
              "\n",
              "  <svg xmlns=\"http://www.w3.org/2000/svg\" height=\"24px\" viewBox=\"0 -960 960 960\">\n",
              "    <path d=\"M120-120v-720h720v720H120Zm60-500h600v-160H180v160Zm220 220h160v-160H400v160Zm0 220h160v-160H400v160ZM180-400h160v-160H180v160Zm440 0h160v-160H620v160ZM180-180h160v-160H180v160Zm440 0h160v-160H620v160Z\"/>\n",
              "  </svg>\n",
              "    </button>\n",
              "\n",
              "  <style>\n",
              "    .colab-df-container {\n",
              "      display:flex;\n",
              "      gap: 12px;\n",
              "    }\n",
              "\n",
              "    .colab-df-convert {\n",
              "      background-color: #E8F0FE;\n",
              "      border: none;\n",
              "      border-radius: 50%;\n",
              "      cursor: pointer;\n",
              "      display: none;\n",
              "      fill: #1967D2;\n",
              "      height: 32px;\n",
              "      padding: 0 0 0 0;\n",
              "      width: 32px;\n",
              "    }\n",
              "\n",
              "    .colab-df-convert:hover {\n",
              "      background-color: #E2EBFA;\n",
              "      box-shadow: 0px 1px 2px rgba(60, 64, 67, 0.3), 0px 1px 3px 1px rgba(60, 64, 67, 0.15);\n",
              "      fill: #174EA6;\n",
              "    }\n",
              "\n",
              "    .colab-df-buttons div {\n",
              "      margin-bottom: 4px;\n",
              "    }\n",
              "\n",
              "    [theme=dark] .colab-df-convert {\n",
              "      background-color: #3B4455;\n",
              "      fill: #D2E3FC;\n",
              "    }\n",
              "\n",
              "    [theme=dark] .colab-df-convert:hover {\n",
              "      background-color: #434B5C;\n",
              "      box-shadow: 0px 1px 3px 1px rgba(0, 0, 0, 0.15);\n",
              "      filter: drop-shadow(0px 1px 2px rgba(0, 0, 0, 0.3));\n",
              "      fill: #FFFFFF;\n",
              "    }\n",
              "  </style>\n",
              "\n",
              "    <script>\n",
              "      const buttonEl =\n",
              "        document.querySelector('#df-c9696b68-c8e9-4661-acf1-622f1605bcf8 button.colab-df-convert');\n",
              "      buttonEl.style.display =\n",
              "        google.colab.kernel.accessAllowed ? 'block' : 'none';\n",
              "\n",
              "      async function convertToInteractive(key) {\n",
              "        const element = document.querySelector('#df-c9696b68-c8e9-4661-acf1-622f1605bcf8');\n",
              "        const dataTable =\n",
              "          await google.colab.kernel.invokeFunction('convertToInteractive',\n",
              "                                                    [key], {});\n",
              "        if (!dataTable) return;\n",
              "\n",
              "        const docLinkHtml = 'Like what you see? Visit the ' +\n",
              "          '<a target=\"_blank\" href=https://colab.research.google.com/notebooks/data_table.ipynb>data table notebook</a>'\n",
              "          + ' to learn more about interactive tables.';\n",
              "        element.innerHTML = '';\n",
              "        dataTable['output_type'] = 'display_data';\n",
              "        await google.colab.output.renderOutput(dataTable, element);\n",
              "        const docLink = document.createElement('div');\n",
              "        docLink.innerHTML = docLinkHtml;\n",
              "        element.appendChild(docLink);\n",
              "      }\n",
              "    </script>\n",
              "  </div>\n",
              "\n",
              "\n",
              "<div id=\"df-ecdf6368-2498-4f5f-a84b-2b24068199a7\">\n",
              "  <button class=\"colab-df-quickchart\" onclick=\"quickchart('df-ecdf6368-2498-4f5f-a84b-2b24068199a7')\"\n",
              "            title=\"Suggest charts\"\n",
              "            style=\"display:none;\">\n",
              "\n",
              "<svg xmlns=\"http://www.w3.org/2000/svg\" height=\"24px\"viewBox=\"0 0 24 24\"\n",
              "     width=\"24px\">\n",
              "    <g>\n",
              "        <path d=\"M19 3H5c-1.1 0-2 .9-2 2v14c0 1.1.9 2 2 2h14c1.1 0 2-.9 2-2V5c0-1.1-.9-2-2-2zM9 17H7v-7h2v7zm4 0h-2V7h2v10zm4 0h-2v-4h2v4z\"/>\n",
              "    </g>\n",
              "</svg>\n",
              "  </button>\n",
              "\n",
              "<style>\n",
              "  .colab-df-quickchart {\n",
              "      --bg-color: #E8F0FE;\n",
              "      --fill-color: #1967D2;\n",
              "      --hover-bg-color: #E2EBFA;\n",
              "      --hover-fill-color: #174EA6;\n",
              "      --disabled-fill-color: #AAA;\n",
              "      --disabled-bg-color: #DDD;\n",
              "  }\n",
              "\n",
              "  [theme=dark] .colab-df-quickchart {\n",
              "      --bg-color: #3B4455;\n",
              "      --fill-color: #D2E3FC;\n",
              "      --hover-bg-color: #434B5C;\n",
              "      --hover-fill-color: #FFFFFF;\n",
              "      --disabled-bg-color: #3B4455;\n",
              "      --disabled-fill-color: #666;\n",
              "  }\n",
              "\n",
              "  .colab-df-quickchart {\n",
              "    background-color: var(--bg-color);\n",
              "    border: none;\n",
              "    border-radius: 50%;\n",
              "    cursor: pointer;\n",
              "    display: none;\n",
              "    fill: var(--fill-color);\n",
              "    height: 32px;\n",
              "    padding: 0;\n",
              "    width: 32px;\n",
              "  }\n",
              "\n",
              "  .colab-df-quickchart:hover {\n",
              "    background-color: var(--hover-bg-color);\n",
              "    box-shadow: 0 1px 2px rgba(60, 64, 67, 0.3), 0 1px 3px 1px rgba(60, 64, 67, 0.15);\n",
              "    fill: var(--button-hover-fill-color);\n",
              "  }\n",
              "\n",
              "  .colab-df-quickchart-complete:disabled,\n",
              "  .colab-df-quickchart-complete:disabled:hover {\n",
              "    background-color: var(--disabled-bg-color);\n",
              "    fill: var(--disabled-fill-color);\n",
              "    box-shadow: none;\n",
              "  }\n",
              "\n",
              "  .colab-df-spinner {\n",
              "    border: 2px solid var(--fill-color);\n",
              "    border-color: transparent;\n",
              "    border-bottom-color: var(--fill-color);\n",
              "    animation:\n",
              "      spin 1s steps(1) infinite;\n",
              "  }\n",
              "\n",
              "  @keyframes spin {\n",
              "    0% {\n",
              "      border-color: transparent;\n",
              "      border-bottom-color: var(--fill-color);\n",
              "      border-left-color: var(--fill-color);\n",
              "    }\n",
              "    20% {\n",
              "      border-color: transparent;\n",
              "      border-left-color: var(--fill-color);\n",
              "      border-top-color: var(--fill-color);\n",
              "    }\n",
              "    30% {\n",
              "      border-color: transparent;\n",
              "      border-left-color: var(--fill-color);\n",
              "      border-top-color: var(--fill-color);\n",
              "      border-right-color: var(--fill-color);\n",
              "    }\n",
              "    40% {\n",
              "      border-color: transparent;\n",
              "      border-right-color: var(--fill-color);\n",
              "      border-top-color: var(--fill-color);\n",
              "    }\n",
              "    60% {\n",
              "      border-color: transparent;\n",
              "      border-right-color: var(--fill-color);\n",
              "    }\n",
              "    80% {\n",
              "      border-color: transparent;\n",
              "      border-right-color: var(--fill-color);\n",
              "      border-bottom-color: var(--fill-color);\n",
              "    }\n",
              "    90% {\n",
              "      border-color: transparent;\n",
              "      border-bottom-color: var(--fill-color);\n",
              "    }\n",
              "  }\n",
              "</style>\n",
              "\n",
              "  <script>\n",
              "    async function quickchart(key) {\n",
              "      const quickchartButtonEl =\n",
              "        document.querySelector('#' + key + ' button');\n",
              "      quickchartButtonEl.disabled = true;  // To prevent multiple clicks.\n",
              "      quickchartButtonEl.classList.add('colab-df-spinner');\n",
              "      try {\n",
              "        const charts = await google.colab.kernel.invokeFunction(\n",
              "            'suggestCharts', [key], {});\n",
              "      } catch (error) {\n",
              "        console.error('Error during call to suggestCharts:', error);\n",
              "      }\n",
              "      quickchartButtonEl.classList.remove('colab-df-spinner');\n",
              "      quickchartButtonEl.classList.add('colab-df-quickchart-complete');\n",
              "    }\n",
              "    (() => {\n",
              "      let quickchartButtonEl =\n",
              "        document.querySelector('#df-ecdf6368-2498-4f5f-a84b-2b24068199a7 button');\n",
              "      quickchartButtonEl.style.display =\n",
              "        google.colab.kernel.accessAllowed ? 'block' : 'none';\n",
              "    })();\n",
              "  </script>\n",
              "</div>\n",
              "    </div>\n",
              "  </div>\n"
            ],
            "application/vnd.google.colaboratory.intrinsic+json": {
              "type": "dataframe",
              "variable_name": "df_records",
              "summary": "{\n  \"name\": \"df_records\",\n  \"rows\": 5,\n  \"fields\": [\n    {\n      \"column\": \"smiles\",\n      \"properties\": {\n        \"dtype\": \"string\",\n        \"num_unique_values\": 5,\n        \"samples\": [\n          \"C#Cc1nn([C@@H]2CCCN(C(=O)C=C)C2)c2ncnc(N)c12\",\n          \"C=C=CC(=O)Nc1cc(Nc2nccc(-c3c[nH]c4ccccc34)n2)c(OC)cc1N(C)CCN(C)C\",\n          \"C=C=CC(=O)Nc1cc(Nc2ncc(C)c(-c3cn(C)c4ccccc34)n2)c(OC)cc1N(C)CCN(C)C\"\n        ],\n        \"semantic_type\": \"\",\n        \"description\": \"\"\n      }\n    },\n    {\n      \"column\": \"T790M_L858R\",\n      \"properties\": {\n        \"dtype\": \"number\",\n        \"std\": 1.8634541228480872,\n        \"min\": 5.05415678024292,\n        \"max\": 8.990312576293945,\n        \"num_unique_values\": 5,\n        \"samples\": [\n          6.057257652282715,\n          8.798269271850586,\n          8.891641616821289\n        ],\n        \"semantic_type\": \"\",\n        \"description\": \"\"\n      }\n    }\n  ]\n}"
            }
          },
          "metadata": {},
          "execution_count": 20
        }
      ],
      "source": [
        "records = {\"smiles\":[]}\n",
        "if \"MTL\" not in target:\n",
        "    index_ans = target_dict[configs[\"target\"]].index(target)\n",
        "    actual_target = target_dict[configs[\"target\"]][index_ans]\n",
        "    records[actual_target] = []\n",
        "else:\n",
        "    for t in target_dict[configs[\"target\"]]:\n",
        "        records[t] = []\n",
        "for data, smi in zip(test_loader, smiles_list):\n",
        "    if \"MTL\" not in target:\n",
        "        value = model(data)[0,index_ans].item()\n",
        "        records[actual_target].append(value)\n",
        "    else:\n",
        "        value = model(data)[0,:].tolist()\n",
        "        for i, v in enumerate(value):\n",
        "            records[target_dict[configs[\"target\"]][i]].append(v)\n",
        "    records[\"smiles\"].append(smi)\n",
        "df_records = pd.DataFrame(records)\n",
        "df_records"
      ]
    },
    {
      "cell_type": "code",
      "source": [],
      "metadata": {
        "id": "O0mKL1C6Ybjf"
      },
      "execution_count": 20,
      "outputs": []
    }
  ],
  "metadata": {
    "kernelspec": {
      "display_name": "Python 3",
      "name": "python3"
    },
    "language_info": {
      "codemirror_mode": {
        "name": "ipython",
        "version": 3
      },
      "file_extension": ".py",
      "mimetype": "text/x-python",
      "name": "python",
      "nbconvert_exporter": "python",
      "pygments_lexer": "ipython3",
      "version": "3.7.9"
    },
    "colab": {
      "provenance": []
    }
  },
  "nbformat": 4,
  "nbformat_minor": 0
}